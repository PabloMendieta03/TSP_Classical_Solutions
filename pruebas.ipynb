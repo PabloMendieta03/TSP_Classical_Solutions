{
 "cells": [
  {
   "cell_type": "code",
   "execution_count": 1,
   "id": "de6158dd",
   "metadata": {},
   "outputs": [],
   "source": [
    "import dataset\n",
    "import importlib\n",
    "importlib.reload(dataset)\n",
    "from dataset import DatasetCreation"
   ]
  },
  {
   "cell_type": "code",
   "execution_count": 2,
   "id": "65ee7a52",
   "metadata": {},
   "outputs": [
    {
     "ename": "ModuleNotFoundError",
     "evalue": "No module named 'torch_geometric'",
     "output_type": "error",
     "traceback": [
      "\u001b[31m---------------------------------------------------------------------------\u001b[39m",
      "\u001b[31mModuleNotFoundError\u001b[39m                       Traceback (most recent call last)",
      "\u001b[36mCell\u001b[39m\u001b[36m \u001b[39m\u001b[32mIn[2]\u001b[39m\u001b[32m, line 1\u001b[39m\n\u001b[32m----> \u001b[39m\u001b[32m1\u001b[39m \u001b[38;5;28;01mfrom\u001b[39;00m\u001b[38;5;250m \u001b[39m\u001b[34;01mtorch_geometric\u001b[39;00m\u001b[34;01m.\u001b[39;00m\u001b[34;01mutils\u001b[39;00m\u001b[38;5;250m \u001b[39m\u001b[38;5;28;01mimport\u001b[39;00m to_undirected,add_self_loops\n\u001b[32m      2\u001b[39m \u001b[38;5;28;01mfrom\u001b[39;00m\u001b[38;5;250m \u001b[39m\u001b[34;01mtorch_geometric\u001b[39;00m\u001b[34;01m.\u001b[39;00m\u001b[34;01mdata\u001b[39;00m\u001b[38;5;250m \u001b[39m\u001b[38;5;28;01mimport\u001b[39;00m Data\n\u001b[32m      3\u001b[39m \u001b[38;5;28;01mimport\u001b[39;00m\u001b[38;5;250m \u001b[39m\u001b[34;01mitertools\u001b[39;00m\n",
      "\u001b[31mModuleNotFoundError\u001b[39m: No module named 'torch_geometric'"
     ]
    }
   ],
   "source": [
    "from torch_geometric.utils import to_undirected,add_self_loops\n",
    "from torch_geometric.data import Data\n",
    "import itertools\n"
   ]
  },
  {
   "cell_type": "code",
   "execution_count": null,
   "id": "06b15d51",
   "metadata": {},
   "outputs": [],
   "source": [
    "#Creating the data, e.g., in this example, we create 1000 graphs with 10 nodes, 1000 with 15, etc.\n",
    "#We create graphs with varying number of nodes such that the neural network can learn to generalize.\n",
    "#Ideally we want many graphs and with many different number of nodes, but that can create computational problems if we lack the resources\n",
    "#or it the GNN we consider have many parameters.\n",
    "#Also, the bigger the graph, the more time concorde will need for solving (NP-hard problem)\n",
    "\n",
    "from torch_geometric.utils import to_undirected,add_self_loops\n",
    "from torch_geometric.data import Data\n",
    "import itertools\n",
    "\n",
    "\n",
    "\n",
    "\n",
    "data_list = []\n",
    "\n",
    "num_datasets = 10\n",
    "\n",
    "for num_nodes in [10,15,20,25,30]:\n",
    "  node_coords, distance_matrices,solution_paths, solution_adjacencies, distances = DatasetCreation.generate_tsp_data(num_nodes = num_nodes,  num_datasets = num_datasets, check_correct=True)\n",
    "\n",
    "  num_pos = num_nodes\n",
    "  num_neg = num_nodes**2-num_nodes\n",
    "\n",
    "\n",
    "\n",
    "  weight_pos_class = (num_neg/num_pos)\n",
    "\n",
    "  edge_index = torch.tensor(list(itertools.product(np.arange(num_nodes),np.arange(num_nodes))), dtype=torch.long).T.contiguous()\n",
    "  for i in range(len(node_coords)):\n",
    "      edge_attr = torch.tensor(((distance_matrices[i])).flatten()).float().unsqueeze(1)\n",
    "\n",
    "      x = torch.tensor(node_coords[i]).float()\n",
    "      y = torch.tensor(solution_adjacencies[i].flatten()).float().unsqueeze(1)\n",
    "\n",
    "\n",
    "      data = Data(x=x, edge_index=edge_index, y= y, edge_attr=edge_attr)\n",
    "      data.edge_weight = torch.tensor(((distance_matrices[i])).flatten()).float().unsqueeze(1)\n",
    "      data.true_path = torch.Tensor(solution_paths[i])\n",
    "      data.true_distance = torch.Tensor([distances[i]]).unsqueeze(1)\n",
    "      data.num_nodes = num_nodes\n",
    "      data.pos_class_weight = weight_pos_class\n",
    "      data_list.append(data)"
   ]
  }
 ],
 "metadata": {
  "kernelspec": {
   "display_name": "tsp-venv",
   "language": "python",
   "name": "python3"
  },
  "language_info": {
   "codemirror_mode": {
    "name": "ipython",
    "version": 3
   },
   "file_extension": ".py",
   "mimetype": "text/x-python",
   "name": "python",
   "nbconvert_exporter": "python",
   "pygments_lexer": "ipython3",
   "version": "3.11.9"
  }
 },
 "nbformat": 4,
 "nbformat_minor": 5
}
